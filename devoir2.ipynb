{
 "cells": [
  {
   "cell_type": "markdown",
   "metadata": {},
   "source": [
    "# TP2 INF889G - Vision par ordinateur H24\n",
    "\n",
    "Autheurs :  \n",
    "\n",
    "François HUppé-Marcoux (HUPF10049509)\n",
    "\n",
    "Guillaume Carignan (CARGXXXXXXX)\n"
   ]
  },
  {
   "cell_type": "markdown",
   "metadata": {},
   "source": [
    "## Panorama"
   ]
  },
  {
   "cell_type": "markdown",
   "metadata": {},
   "source": [
    "### Detection des coins de harris"
   ]
  },
  {
   "cell_type": "markdown",
   "metadata": {},
   "source": [
    "1. Calcule du tenseur de structure \n",
    "\n"
   ]
  },
  {
   "cell_type": "code",
   "execution_count": 2,
   "metadata": {},
   "outputs": [],
   "source": [
    "from harris_image import structure_matrix\n",
    "\"\"\"\n",
    "Complétez la fonction structure_matrix(im,sigma) dans le fichier harris_image.py. Ceci effec-\n",
    "tuera les 3 premières étapes de l’algorithme : calcul des dérivées, des métriques correspondantes,\n",
    "et la somme pondérée des informations des dérivées pour un voisinage. Comme discuté en classe,\n",
    "la somme pondérée peut être facilement calculée avec un lissage gaussien.\n",
    "\"\"\"\n",
    "# TODO\n",
    "# S = structure_matrix(im, sigma)"
   ]
  },
  {
   "cell_type": "markdown",
   "metadata": {},
   "source": [
    "2. Calcule de la similarité à un coin"
   ]
  },
  {
   "cell_type": "code",
   "execution_count": null,
   "metadata": {},
   "outputs": [],
   "source": [
    "from harris_image import cornerness_response\n",
    "\"\"\"\n",
    "Complétez la fonction cornerness_response(S) dans le fichier harris_image.py.\n",
    "\"\"\"\n",
    "# TODO\n",
    "# R = cornerness_response(S)"
   ]
  },
  {
   "cell_type": "markdown",
   "metadata": {},
   "source": [
    "3. Suppression des non-maximum"
   ]
  },
  {
   "cell_type": "code",
   "execution_count": null,
   "metadata": {},
   "outputs": [],
   "source": [
    "from harris_image import nms_image\n",
    "\"\"\"\n",
    "On veut seulement les réponses locales maximums de notre détecteur de coin afin de faciliter\n",
    "le pairage des points caractéristiques. Complétez la fonction nms_image(im, w) dans le fichier\n",
    "harris_image.py.\n",
    "Pour chaque pixel dans l’image im, vérifiez chaque pixel dans un voisinage de w pixels (Distance\n",
    "de Chebyshev). D’une façon alternative, vérifiez une fenêtre de taille 2𝑤 + 1 centrée sur chaque\n",
    "pixel. Si au moins une valeur dans le voisinage est plus élevée, supprimez la valeur du pixel central\n",
    "(assignez-lui une valeur négative très basse).\n",
    "\"\"\"\n",
    "# TODO\n",
    "# Rnms = nms_image(R, nms)"
   ]
  },
  {
   "cell_type": "markdown",
   "metadata": {},
   "source": [
    "Tester la fonction complète  "
   ]
  },
  {
   "cell_type": "code",
   "execution_count": null,
   "metadata": {},
   "outputs": [],
   "source": [
    "from harris_image import harris_corner_detector\n",
    "\"\"\"\n",
    "Complétez les sections manquantes de la fonction harris_corner_detector(im, sigma,\n",
    "thresh, nms). Cette fonction devrait retourner un tableau de descripteurs pour les coins dans\n",
    "l’image. Le code pour calculer les descripteurs est fourni.\n",
    "Après avoir complété cette fonction, vous devriez être en mesure decalculer les coins et leur des-\n",
    "cripteur pour une image ! Essayez d’exécuter :\n",
    "import imageio\n",
    "import matplotlib.pyplot as plt\n",
    "from harris_corner import detect_and_draw_corners\n",
    "im = imageio.imread(\"data/Rainier1.png\")\n",
    "im_cd = detect_and_draw_corners(im, 2, 0.0004, 3)\n",
    "plt.imshow(im_cd); plt.show()\n",
    "Ceci détectera les coins en utilisant une fenêtre gaussienne de sigma=2, un seuil de “cornerness”\n",
    "de 0.0004, et une distance nms de 3 (ou une fenêtre de taille 7𝑥7). Vous devriez obtenir un résultat\n",
    "similaire à ceci :\n",
    "Les coins sont représentés par des croix. L’algorithme donne des résultats sensés, beaucoup de\n",
    "coins sont près de l’endroit où la neige rencontre la roche. Essayez de jouer avec les différentes\n",
    "valeurs des paramètres pour voir comment ils affectent votre détecteur de coin.\n",
    "\"\"\"\n",
    "# TODO\n",
    "# params type : np.ndarray, float, float, int\n",
    "# d = harris_corner_detector(im, sigma, thresh, nms)"
   ]
  },
  {
   "cell_type": "markdown",
   "metadata": {},
   "source": [
    "### Correspondance des patchs\n",
    "\n"
   ]
  },
  {
   "cell_type": "markdown",
   "metadata": {},
   "source": [
    "1. Métrique de distance "
   ]
  },
  {
   "cell_type": "code",
   "execution_count": null,
   "metadata": {},
   "outputs": [],
   "source": [
    "# TODO"
   ]
  },
  {
   "cell_type": "markdown",
   "metadata": {},
   "source": [
    "2. Pairage des descripteurs"
   ]
  },
  {
   "cell_type": "code",
   "execution_count": null,
   "metadata": {},
   "outputs": [],
   "source": [
    "# TODO # Détection du meilleur pairage de a vers b \n",
    "\n",
    "# TODO # Éliminer les patchs multiples pour un même descripteur"
   ]
  },
  {
   "cell_type": "markdown",
   "metadata": {},
   "source": [
    "3. Ajouter la projection aux données"
   ]
  },
  {
   "cell_type": "code",
   "execution_count": null,
   "metadata": {},
   "outputs": [],
   "source": [
    "# TODO # Projection des points par homographie\n",
    "\n",
    "# TODO # Calcule de la distance entre deux points \n",
    "\n",
    "# TODO # Calcule les inliner d'un modèle \n",
    "\n",
    "# TODO # Ajuster l'homographie"
   ]
  },
  {
   "cell_type": "markdown",
   "metadata": {},
   "source": [
    "4. Correspondance aléatoire"
   ]
  },
  {
   "cell_type": "code",
   "execution_count": null,
   "metadata": {},
   "outputs": [],
   "source": [
    "# TODO"
   ]
  },
  {
   "cell_type": "markdown",
   "metadata": {},
   "source": [
    "### Implémenter RANSAC"
   ]
  },
  {
   "cell_type": "code",
   "execution_count": null,
   "metadata": {},
   "outputs": [],
   "source": [
    "# TODO"
   ]
  },
  {
   "cell_type": "markdown",
   "metadata": {},
   "source": [
    "### Combiner les images avec l'homographie"
   ]
  },
  {
   "cell_type": "code",
   "execution_count": null,
   "metadata": {},
   "outputs": [],
   "source": [
    "# TODO"
   ]
  },
  {
   "cell_type": "markdown",
   "metadata": {},
   "source": [
    "## Références"
   ]
  }
 ],
 "metadata": {
  "kernelspec": {
   "display_name": "Python 3",
   "language": "python",
   "name": "python3"
  },
  "language_info": {
   "codemirror_mode": {
    "name": "ipython",
    "version": 3
   },
   "file_extension": ".py",
   "mimetype": "text/x-python",
   "name": "python",
   "nbconvert_exporter": "python",
   "pygments_lexer": "ipython3",
   "version": "3.11.8"
  }
 },
 "nbformat": 4,
 "nbformat_minor": 2
}
